{
 "cells": [
  {
   "cell_type": "markdown",
   "id": "a73a5fc6-7206-44bf-9905-9630f4014898",
   "metadata": {},
   "source": [
    "# Schrödinger's cat\n",
    "In [quantum mechanics](https://en.wikipedia.org/wiki/Quantum_mechanics), Schrödinger's cat is a thought experiment concerning quantum superposition. In the thought experiment, a hypothetical cat in a closed box may be considered to be simultaneously both alive and dead while it is unobserved, as a result of its fate being linked to a random subatomic event that may or may not occur. This experiment, viewed this way, is described as a paradox. This thought experiment was devised by physicist Erwin Schrödinger in 1935 in a discussion with Albert Einstein to illustrate what Schrödinger saw as the problems of the Copenhagen interpretation of quantum mechanics. "
   ]
  },
  {
   "cell_type": "code",
   "execution_count": 1,
   "id": "dc01a445-6e4b-4a0c-8a1b-2478ef8e3bb4",
   "metadata": {},
   "outputs": [
    {
     "name": "stdout",
     "output_type": "stream",
     "text": [
      "CAT\n"
     ]
    }
   ],
   "source": [
    "print ('CAT')"
   ]
  },
  {
   "cell_type": "markdown",
   "id": "e1c74aa1-0e6b-4a01-9c29-025bb73d503a",
   "metadata": {},
   "source": [
    " ![CAT](https://upload.wikimedia.org/wikipedia/commons/thumb/9/91/Schrodingers_cat.svg/330px-Schrodingers_cat.svg.png)"
   ]
  },
  {
   "cell_type": "markdown",
   "id": "97a10fb5-27e8-4f48-8bc4-a78009485319",
   "metadata": {},
   "source": [
    ">Schrödinger's cat: a cat, a flask of poison, and a radioactive source connected to a Geiger counter are placed in a sealed box. As illustrated, the quantum description uses a superposition of an alive cat and one that has died."
   ]
  },
  {
   "cell_type": "markdown",
   "id": "1b6704ab-5a90-48b5-8dfa-8f3481cb12eb",
   "metadata": {},
   "source": [
    "* Markdown tutorial\n",
    "* HTML entities"
   ]
  },
  {
   "cell_type": "code",
   "execution_count": null,
   "id": "9aea6a8a-664b-42bb-922b-af3bc34399ae",
   "metadata": {},
   "outputs": [],
   "source": []
  }
 ],
 "metadata": {
  "kernelspec": {
   "display_name": "Python 3 (ipykernel)",
   "language": "python",
   "name": "python3"
  },
  "language_info": {
   "codemirror_mode": {
    "name": "ipython",
    "version": 3
   },
   "file_extension": ".py",
   "mimetype": "text/x-python",
   "name": "python",
   "nbconvert_exporter": "python",
   "pygments_lexer": "ipython3",
   "version": "3.10.12"
  }
 },
 "nbformat": 4,
 "nbformat_minor": 5
}
